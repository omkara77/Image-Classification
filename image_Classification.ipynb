{
 "cells": [
  {
   "cell_type": "markdown",
   "metadata": {
    "toc": true
   },
   "source": [
    "<h1>Table of Contents<span class=\"tocSkip\"></span></h1>\n",
    "<div class=\"toc\"><ul class=\"toc-item\"></ul></div>"
   ]
  },
  {
   "cell_type": "code",
   "execution_count": 6,
   "metadata": {
    "colab": {
     "base_uri": "https://localhost:8080/"
    },
    "id": "pYAIF18lLtL7",
    "outputId": "fe79ace4-2694-4aec-9f91-99015d2ad5e0"
   },
   "outputs": [
    {
     "name": "stdout",
     "output_type": "stream",
     "text": [
      "Collecting ipython-autotime\n",
      "  Downloading https://files.pythonhosted.org/packages/b4/c9/b413a24f759641bc27ef98c144b590023c8038dfb8a3f09e713e9dff12c1/ipython_autotime-0.3.1-py2.py3-none-any.whl\n",
      "Requirement already satisfied: ipython in /usr/local/lib/python3.7/dist-packages (from ipython-autotime) (5.5.0)\n",
      "Requirement already satisfied: pickleshare in /usr/local/lib/python3.7/dist-packages (from ipython->ipython-autotime) (0.7.5)\n",
      "Requirement already satisfied: prompt-toolkit<2.0.0,>=1.0.4 in /usr/local/lib/python3.7/dist-packages (from ipython->ipython-autotime) (1.0.18)\n",
      "Requirement already satisfied: setuptools>=18.5 in /usr/local/lib/python3.7/dist-packages (from ipython->ipython-autotime) (54.1.2)\n",
      "Requirement already satisfied: pygments in /usr/local/lib/python3.7/dist-packages (from ipython->ipython-autotime) (2.6.1)\n",
      "Requirement already satisfied: simplegeneric>0.8 in /usr/local/lib/python3.7/dist-packages (from ipython->ipython-autotime) (0.8.1)\n",
      "Requirement already satisfied: traitlets>=4.2 in /usr/local/lib/python3.7/dist-packages (from ipython->ipython-autotime) (5.0.5)\n",
      "Requirement already satisfied: decorator in /usr/local/lib/python3.7/dist-packages (from ipython->ipython-autotime) (4.4.2)\n",
      "Requirement already satisfied: pexpect; sys_platform != \"win32\" in /usr/local/lib/python3.7/dist-packages (from ipython->ipython-autotime) (4.8.0)\n",
      "Requirement already satisfied: six>=1.9.0 in /usr/local/lib/python3.7/dist-packages (from prompt-toolkit<2.0.0,>=1.0.4->ipython->ipython-autotime) (1.15.0)\n",
      "Requirement already satisfied: wcwidth in /usr/local/lib/python3.7/dist-packages (from prompt-toolkit<2.0.0,>=1.0.4->ipython->ipython-autotime) (0.2.5)\n",
      "Requirement already satisfied: ipython-genutils in /usr/local/lib/python3.7/dist-packages (from traitlets>=4.2->ipython->ipython-autotime) (0.2.0)\n",
      "Requirement already satisfied: ptyprocess>=0.5 in /usr/local/lib/python3.7/dist-packages (from pexpect; sys_platform != \"win32\"->ipython->ipython-autotime) (0.7.0)\n",
      "Installing collected packages: ipython-autotime\n",
      "Successfully installed ipython-autotime-0.3.1\n",
      "time: 170 µs (started: 2021-03-26 20:17:40 +00:00)\n"
     ]
    }
   ],
   "source": [
    "!pip install ipython-autotime\n",
    "%load_ext autotime"
   ]
  },
  {
   "cell_type": "code",
   "execution_count": 1,
   "metadata": {
    "id": "Te2qjVXsCmE2"
   },
   "outputs": [],
   "source": [
    "# Data : Images \n",
    "# 1. Download manually\n",
    "# 2. Download dataset\n",
    "# 3. build image web crawler\n",
    "# 4. Use python libraries to scrape the images (Binge image downloader)"
   ]
  },
  {
   "cell_type": "code",
   "execution_count": 1,
   "metadata": {
    "colab": {
     "base_uri": "https://localhost:8080/"
    },
    "id": "0vBKzZdVJH0S",
    "outputId": "d40b0d5a-66ef-41e4-cd04-bf1c36e6703b"
   },
   "outputs": [
    {
     "name": "stdout",
     "output_type": "stream",
     "text": [
      "Collecting bing-image-downloader\n",
      "  Downloading https://files.pythonhosted.org/packages/0d/bf/537a61030b84ae4cd5022d5c7b014fd9bc3ce7c02358919153a6658a61d3/bing_image_downloader-1.0.4-py3-none-any.whl\n",
      "Installing collected packages: bing-image-downloader\n",
      "Successfully installed bing-image-downloader-1.0.4\n"
     ]
    }
   ],
   "source": [
    "!pip install bing-image-downloader"
   ]
  },
  {
   "cell_type": "code",
   "execution_count": 2,
   "metadata": {
    "id": "LeIDCYGlJOCq"
   },
   "outputs": [],
   "source": [
    "!mkdir images"
   ]
  },
  {
   "cell_type": "code",
   "execution_count": 3,
   "metadata": {
    "colab": {
     "base_uri": "https://localhost:8080/"
    },
    "id": "v2GYWyuKJaPd",
    "outputId": "0bf89799-368e-4049-d4fa-19d83239197a"
   },
   "outputs": [
    {
     "name": "stdout",
     "output_type": "stream",
     "text": [
      "\n",
      "\n",
      "[!!]Indexing page: 1\n",
      "\n",
      "[%] Indexed 12 Images on Page 1.\n",
      "\n",
      "===============================================\n",
      "\n",
      "[%] Downloading Image #1 from https://i.pinimg.com/736x/2e/c2/02/2ec202de1a821301dc70d1b89d70a289.jpg\n",
      "[%] File Downloaded !\n",
      "\n",
      "[%] Downloading Image #2 from https://i.pinimg.com/736x/89/f6/18/89f618c61e98e8d33ce1f188b2e746b8--sunflower-arrangements-sunflower-bouquets.jpg\n",
      "[%] File Downloaded !\n",
      "\n",
      "[%] Downloading Image #3 from https://i.pinimg.com/originals/39/d7/53/39d7534172f92426fe3038ba30b3890e.jpg\n",
      "[%] File Downloaded !\n",
      "\n",
      "[%] Downloading Image #4 from https://www.digsdigs.com/photos/2011/10/700-free-last-minute-halloween-pumpkin-carving-templates-and-ideas-6-775x775.jpg\n",
      "[%] File Downloaded !\n",
      "\n",
      "[%] Downloading Image #5 from https://i.pinimg.com/736x/33/b3/a3/33b3a31a8e8f60377cc9db75f5a0b48e.jpg\n",
      "[%] File Downloaded !\n",
      "\n",
      "[%] Downloading Image #6 from https://s-media-cache-ak0.pinimg.com/736x/f9/63/12/f9631290efb025e6c40b2af57833ec78.jpg\n",
      "[%] File Downloaded !\n",
      "\n",
      "[%] Downloading Image #7 from https://66.media.tumblr.com/cebcb957d4b128d290afa245cfe392e0/tumblr_mftdvavnts1qcyk23o1_500.jpg\n",
      "[%] File Downloaded !\n",
      "\n",
      "[%] Downloading Image #8 from https://www.wallpapers13.com/wp-content/uploads/2015/12/Sunflower-field-wallpaper-015-1024x768.jpg\n",
      "[%] File Downloaded !\n",
      "\n",
      "[%] Downloading Image #9 from https://i.pinimg.com/736x/28/1c/e3/281ce37c04dcb2c590a399a94e9526c3.jpg\n",
      "[%] File Downloaded !\n",
      "\n",
      "[%] Downloading Image #10 from http://menningphotographic.com/wp-content/uploads/2015/01/07-23975-post/Amber_Matt_Mitchell-Ponds-Inne_Knox-PA_Rustic-Barn-Wedding_Youngstown-OH-Wedding-Photographers_0069.jpg\n",
      "[%] File Downloaded !\n",
      "\n",
      "[%] Downloading Image #11 from https://i.pinimg.com/736x/f2/9d/cb/f29dcb8044a6f22e676c63d89b0f4557--laptop-backgrounds-laptop-wallpaper.jpg?b=t\n",
      "[%] File Downloaded !\n",
      "\n",
      "[%] Downloading Image #12 from https://ohbestdayever.com/wp-content/uploads/2017/12/rustic-sunflower-wedding-centerpiece-ideas-with-mason-jars.jpg\n",
      "[%] File Downloaded !\n",
      "\n",
      "\n",
      "\n",
      "[!!]Indexing page: 2\n",
      "\n",
      "[%] Indexed 12 Images on Page 2.\n",
      "\n",
      "===============================================\n",
      "\n",
      "[%] Downloading Image #13 from https://i.pinimg.com/736x/2e/c2/02/2ec202de1a821301dc70d1b89d70a289.jpg\n",
      "[%] File Downloaded !\n",
      "\n",
      "[%] Downloading Image #14 from https://i.pinimg.com/736x/89/f6/18/89f618c61e98e8d33ce1f188b2e746b8--sunflower-arrangements-sunflower-bouquets.jpg\n",
      "[%] File Downloaded !\n",
      "\n",
      "[%] Downloading Image #15 from https://i.pinimg.com/originals/39/d7/53/39d7534172f92426fe3038ba30b3890e.jpg\n",
      "[%] File Downloaded !\n",
      "\n",
      "[%] Downloading Image #16 from https://www.digsdigs.com/photos/2011/10/700-free-last-minute-halloween-pumpkin-carving-templates-and-ideas-6-775x775.jpg\n",
      "[%] File Downloaded !\n",
      "\n",
      "[%] Downloading Image #17 from https://i.pinimg.com/736x/33/b3/a3/33b3a31a8e8f60377cc9db75f5a0b48e.jpg\n",
      "[%] File Downloaded !\n",
      "\n",
      "[%] Downloading Image #18 from https://s-media-cache-ak0.pinimg.com/736x/f9/63/12/f9631290efb025e6c40b2af57833ec78.jpg\n",
      "[%] File Downloaded !\n",
      "\n",
      "[%] Downloading Image #19 from https://66.media.tumblr.com/cebcb957d4b128d290afa245cfe392e0/tumblr_mftdvavnts1qcyk23o1_500.jpg\n",
      "[%] File Downloaded !\n",
      "\n",
      "[%] Downloading Image #20 from https://www.wallpapers13.com/wp-content/uploads/2015/12/Sunflower-field-wallpaper-015-1024x768.jpg\n",
      "[%] File Downloaded !\n",
      "\n",
      "[%] Downloading Image #21 from https://i.pinimg.com/736x/28/1c/e3/281ce37c04dcb2c590a399a94e9526c3.jpg\n",
      "[%] File Downloaded !\n",
      "\n",
      "[%] Downloading Image #22 from http://menningphotographic.com/wp-content/uploads/2015/01/07-23975-post/Amber_Matt_Mitchell-Ponds-Inne_Knox-PA_Rustic-Barn-Wedding_Youngstown-OH-Wedding-Photographers_0069.jpg\n",
      "[%] File Downloaded !\n",
      "\n",
      "[%] Downloading Image #23 from https://i.pinimg.com/736x/f2/9d/cb/f29dcb8044a6f22e676c63d89b0f4557--laptop-backgrounds-laptop-wallpaper.jpg?b=t\n",
      "[%] File Downloaded !\n",
      "\n",
      "[%] Downloading Image #24 from https://ohbestdayever.com/wp-content/uploads/2017/12/rustic-sunflower-wedding-centerpiece-ideas-with-mason-jars.jpg\n",
      "[%] File Downloaded !\n",
      "\n",
      "\n",
      "\n",
      "[!!]Indexing page: 3\n",
      "\n",
      "[%] Indexed 11 Images on Page 3.\n",
      "\n",
      "===============================================\n",
      "\n",
      "[%] Downloading Image #25 from https://i.pinimg.com/originals/39/d7/53/39d7534172f92426fe3038ba30b3890e.jpg\n",
      "[%] File Downloaded !\n",
      "\n",
      "[%] Downloading Image #26 from https://www.digsdigs.com/photos/2011/10/700-free-last-minute-halloween-pumpkin-carving-templates-and-ideas-6-775x775.jpg\n",
      "[%] File Downloaded !\n",
      "\n",
      "[%] Downloading Image #27 from https://s-media-cache-ak0.pinimg.com/736x/f9/63/12/f9631290efb025e6c40b2af57833ec78.jpg\n",
      "[%] File Downloaded !\n",
      "\n",
      "[%] Downloading Image #28 from https://66.media.tumblr.com/cebcb957d4b128d290afa245cfe392e0/tumblr_mftdvavnts1qcyk23o1_500.jpg\n",
      "[%] File Downloaded !\n",
      "\n",
      "[%] Downloading Image #29 from https://www.wallpapers13.com/wp-content/uploads/2015/12/Sunflower-field-wallpaper-015-1024x768.jpg\n",
      "[%] File Downloaded !\n",
      "\n",
      "[%] Downloading Image #30 from https://i.pinimg.com/736x/89/f6/18/89f618c61e98e8d33ce1f188b2e746b8--sunflower-arrangements-sunflower-bouquets.jpg\n",
      "[%] File Downloaded !\n",
      "\n",
      "\n",
      "\n",
      "[%] Done. Downloaded 30 images.\n",
      "\n",
      "===============================================\n",
      "\n"
     ]
    }
   ],
   "source": [
    "from bing_image_downloader import downloader\n",
    "downloader.download('pretty sunflower', limit=30, output_dir='images',\n",
    "                    adult_filter_off=True)"
   ]
  },
  {
   "cell_type": "code",
   "execution_count": 4,
   "metadata": {
    "colab": {
     "base_uri": "https://localhost:8080/"
    },
    "id": "MfQnDQJYKjp1",
    "outputId": "c8faf4f0-5327-4b1f-e094-23e8f514d701"
   },
   "outputs": [
    {
     "name": "stdout",
     "output_type": "stream",
     "text": [
      "\n",
      "\n",
      "[!!]Indexing page: 1\n",
      "\n",
      "[%] Indexed 12 Images on Page 1.\n",
      "\n",
      "===============================================\n",
      "\n",
      "[%] Downloading Image #1 from https://sportantiques.co.uk/pub/media/catalog/product/2/5/sportantiques-388204978300.jpg\n",
      "[%] File Downloaded !\n",
      "\n",
      "[%] Downloading Image #2 from http://clipart-library.com/image_gallery/n1570522.png\n",
      "[%] File Downloaded !\n",
      "\n",
      "[%] Downloading Image #3 from https://www.john-woodbridge.com/1020-tm_thickbox_default/1950s-football.jpg\n",
      "[%] File Downloaded !\n",
      "\n",
      "[%] Downloading Image #4 from https://resources.stuff.co.nz/content/dam/images/1/c/m/1/z/u/image.related.StuffLandscapeSixteenByNine.1420x800.1cm0lm.png/1467325338558.jpg\n",
      "[%] File Downloaded !\n",
      "\n",
      "[%] Downloading Image #5 from https://img0.etsystatic.com/000/0/5219063/il_fullxfull.22734302.jpg\n",
      "[%] File Downloaded !\n",
      "\n",
      "[%] Downloading Image #6 from https://cdn.shopify.com/s/files/1/0226/2169/products/Teak_Basketball_02_1024x1024.jpg?v=1568214929\n",
      "[%] File Downloaded !\n",
      "\n",
      "[%] Downloading Image #7 from https://www.prodirectrugby.com/productimages/V3_1_Gallery_1/62355.jpg\n",
      "[!] Issue getting: https://www.prodirectrugby.com/productimages/V3_1_Gallery_1/62355.jpg\n",
      "[!] Error:: HTTP Error 403: Forbidden\n",
      "[%] Downloading Image #7 from https://static.vecteezy.com/system/resources/previews/000/094/728/original/rugby-pitch-vector.jpg\n",
      "[%] File Downloaded !\n",
      "\n",
      "[%] Downloading Image #8 from https://thumbs.dreamstime.com/z/cartoon-sport-balls-25573001.jpg\n",
      "[%] File Downloaded !\n",
      "\n",
      "[%] Downloading Image #9 from https://i.ebayimg.com/images/g/nJYAAOSw1~JZTYWK/s-l400.jpg\n",
      "[%] File Downloaded !\n",
      "\n",
      "[%] Downloading Image #10 from https://avicii.ca/wp-content/uploads/2020/10/CLOTHING-STORE-FOR-MEN-WOMEN-KIDS-NEARBY-AVICII.CA_-3.jpg\n",
      "[%] File Downloaded !\n",
      "\n",
      "[%] Downloading Image #11 from http://i3.photobucket.com/albums/y81/virginking/SAMSUNG GENIO/SDC10978copy.jpg\n",
      "[!] Issue getting: http://i3.photobucket.com/albums/y81/virginking/SAMSUNG GENIO/SDC10978copy.jpg\n",
      "[!] Error:: URL can't contain control characters. '/albums/y81/virginking/SAMSUNG GENIO/SDC10978copy.jpg' (found at least ' ')\n",
      "\n",
      "\n",
      "[!!]Indexing page: 2\n",
      "\n",
      "[%] Indexed 12 Images on Page 2.\n",
      "\n",
      "===============================================\n",
      "\n",
      "[%] Downloading Image #11 from https://sportantiques.co.uk/pub/media/catalog/product/2/5/sportantiques-388204978300.jpg\n",
      "[%] File Downloaded !\n",
      "\n",
      "[%] Downloading Image #12 from http://clipart-library.com/image_gallery/n1570522.png\n",
      "[%] File Downloaded !\n",
      "\n",
      "[%] Downloading Image #13 from https://www.john-woodbridge.com/1020-tm_thickbox_default/1950s-football.jpg\n",
      "[%] File Downloaded !\n",
      "\n",
      "[%] Downloading Image #14 from https://resources.stuff.co.nz/content/dam/images/1/c/m/1/z/u/image.related.StuffLandscapeSixteenByNine.1420x800.1cm0lm.png/1467325338558.jpg\n",
      "[%] File Downloaded !\n",
      "\n",
      "[%] Downloading Image #15 from https://img0.etsystatic.com/000/0/5219063/il_fullxfull.22734302.jpg\n",
      "[%] File Downloaded !\n",
      "\n",
      "[%] Downloading Image #16 from https://cdn.shopify.com/s/files/1/0226/2169/products/Teak_Basketball_02_1024x1024.jpg?v=1568214929\n",
      "[%] File Downloaded !\n",
      "\n",
      "[%] Downloading Image #17 from https://www.prodirectrugby.com/productimages/V3_1_Gallery_1/62355.jpg\n",
      "[!] Issue getting: https://www.prodirectrugby.com/productimages/V3_1_Gallery_1/62355.jpg\n",
      "[!] Error:: HTTP Error 403: Forbidden\n",
      "[%] Downloading Image #17 from https://static.vecteezy.com/system/resources/previews/000/094/728/original/rugby-pitch-vector.jpg\n",
      "[%] File Downloaded !\n",
      "\n",
      "[%] Downloading Image #18 from https://thumbs.dreamstime.com/z/cartoon-sport-balls-25573001.jpg\n",
      "[%] File Downloaded !\n",
      "\n",
      "[%] Downloading Image #19 from https://i.ebayimg.com/images/g/nJYAAOSw1~JZTYWK/s-l400.jpg\n",
      "[%] File Downloaded !\n",
      "\n",
      "[%] Downloading Image #20 from https://avicii.ca/wp-content/uploads/2020/10/CLOTHING-STORE-FOR-MEN-WOMEN-KIDS-NEARBY-AVICII.CA_-3.jpg\n",
      "[%] File Downloaded !\n",
      "\n",
      "[%] Downloading Image #21 from http://i3.photobucket.com/albums/y81/virginking/SAMSUNG GENIO/SDC10978copy.jpg\n",
      "[!] Issue getting: http://i3.photobucket.com/albums/y81/virginking/SAMSUNG GENIO/SDC10978copy.jpg\n",
      "[!] Error:: URL can't contain control characters. '/albums/y81/virginking/SAMSUNG GENIO/SDC10978copy.jpg' (found at least ' ')\n",
      "\n",
      "\n",
      "[!!]Indexing page: 3\n",
      "\n",
      "[%] Indexed 11 Images on Page 3.\n",
      "\n",
      "===============================================\n",
      "\n",
      "[%] Downloading Image #21 from http://clipart-library.com/image_gallery/n1570522.png\n",
      "[%] File Downloaded !\n",
      "\n",
      "[%] Downloading Image #22 from https://www.john-woodbridge.com/1020-tm_thickbox_default/1950s-football.jpg\n",
      "[%] File Downloaded !\n",
      "\n",
      "[%] Downloading Image #23 from https://resources.stuff.co.nz/content/dam/images/1/c/m/1/z/u/image.related.StuffLandscapeSixteenByNine.1420x800.1cm0lm.png/1467325338558.jpg\n",
      "[%] File Downloaded !\n",
      "\n",
      "[%] Downloading Image #24 from https://img0.etsystatic.com/000/0/5219063/il_fullxfull.22734302.jpg\n",
      "[%] File Downloaded !\n",
      "\n",
      "[%] Downloading Image #25 from https://cdn.shopify.com/s/files/1/0226/2169/products/Teak_Basketball_02_1024x1024.jpg?v=1568214929\n",
      "[%] File Downloaded !\n",
      "\n",
      "[%] Downloading Image #26 from https://www.prodirectrugby.com/productimages/V3_1_Gallery_1/62355.jpg\n",
      "[!] Issue getting: https://www.prodirectrugby.com/productimages/V3_1_Gallery_1/62355.jpg\n",
      "[!] Error:: HTTP Error 403: Forbidden\n",
      "[%] Downloading Image #26 from https://static.vecteezy.com/system/resources/previews/000/094/728/original/rugby-pitch-vector.jpg\n",
      "[%] File Downloaded !\n",
      "\n",
      "[%] Downloading Image #27 from https://thumbs.dreamstime.com/z/cartoon-sport-balls-25573001.jpg\n",
      "[%] File Downloaded !\n",
      "\n",
      "[%] Downloading Image #28 from https://i.ebayimg.com/images/g/nJYAAOSw1~JZTYWK/s-l400.jpg\n",
      "[%] File Downloaded !\n",
      "\n",
      "[%] Downloading Image #29 from https://avicii.ca/wp-content/uploads/2020/10/CLOTHING-STORE-FOR-MEN-WOMEN-KIDS-NEARBY-AVICII.CA_-3.jpg\n",
      "[%] File Downloaded !\n",
      "\n",
      "[%] Downloading Image #30 from http://i3.photobucket.com/albums/y81/virginking/SAMSUNG GENIO/SDC10978copy.jpg\n",
      "[!] Issue getting: http://i3.photobucket.com/albums/y81/virginking/SAMSUNG GENIO/SDC10978copy.jpg\n",
      "[!] Error:: URL can't contain control characters. '/albums/y81/virginking/SAMSUNG GENIO/SDC10978copy.jpg' (found at least ' ')\n",
      "\n",
      "\n",
      "[!!]Indexing page: 4\n",
      "\n",
      "[%] Indexed 10 Images on Page 4.\n",
      "\n",
      "===============================================\n",
      "\n",
      "[%] Downloading Image #30 from https://www.john-woodbridge.com/1020-tm_thickbox_default/1950s-football.jpg\n",
      "[%] File Downloaded !\n",
      "\n",
      "\n",
      "\n",
      "[%] Done. Downloaded 30 images.\n",
      "\n",
      "===============================================\n",
      "\n"
     ]
    }
   ],
   "source": [
    "downloader.download('rugby ball leather', limit=30, output_dir='images',\n",
    "                    adult_filter_off=True)"
   ]
  },
  {
   "cell_type": "code",
   "execution_count": 5,
   "metadata": {
    "colab": {
     "base_uri": "https://localhost:8080/"
    },
    "id": "wM2dmhgOLQFO",
    "outputId": "473b87b2-0422-44df-9ad9-eb24a6fc9c6e"
   },
   "outputs": [
    {
     "name": "stdout",
     "output_type": "stream",
     "text": [
      "\n",
      "\n",
      "[!!]Indexing page: 1\n",
      "\n",
      "[%] Indexed 12 Images on Page 1.\n",
      "\n",
      "===============================================\n",
      "\n",
      "[%] Downloading Image #1 from https://i.pinimg.com/736x/96/75/cd/9675cdd51940e5a91216bf1504ac8006--food-sculpture-claes-oldenburg.jpg\n",
      "[%] File Downloaded !\n",
      "\n",
      "[%] Downloading Image #2 from http://www.awesomeinventions.com/wp-content/uploads/2017/07/Times-People-Lost-The-Food-Lottery-ice-cream-no-cone.jpg\n",
      "[%] File Downloaded !\n",
      "\n",
      "[%] Downloading Image #3 from https://i.pinimg.com/736x/01/81/e9/0181e9e0d6690644a7a490b552755434--pinky-swear-american-pride.jpg\n",
      "[%] File Downloaded !\n",
      "\n",
      "[%] Downloading Image #4 from https://photos.costume-works.com/full/the_ice_cream_cone.jpg\n",
      "[%] File Downloaded !\n",
      "\n",
      "[%] Downloading Image #5 from https://www.rachaelraymag.com/.image/t_share/MTQzMjU4OTI2MjIxNjk4OTI1/microphone-cake-cones.jpg\n",
      "[%] File Downloaded !\n",
      "\n",
      "[%] Downloading Image #6 from https://i.pinimg.com/736x/8b/e5/69/8be569e442e761e63e8fc3c0d7c154d0--waffle-cone-smores-smores-cones.jpg\n",
      "[%] File Downloaded !\n",
      "\n",
      "[%] Downloading Image #7 from http://www.sippycupmom.com/wp-content/uploads/2016/07/Very-Cherry-Vanilla-Ice-Cream-Milkshake-678x1024.jpg\n",
      "[%] File Downloaded !\n",
      "\n",
      "[%] Downloading Image #8 from https://kimspireddiy.com/wp-content/uploads/2020/06/keto-ice-cream-cones-81.jpg\n",
      "[%] File Downloaded !\n",
      "\n",
      "[%] Downloading Image #9 from https://the-glass-co.com/wp-content/uploads/2016/10/ice-cream-presentation.gif\n",
      "[%] File Downloaded !\n",
      "\n",
      "[%] Downloading Image #10 from https://c8.alamy.com/comp/AJAH4W/large-plastic-ice-cream-cone-advertising-ice-cream-parlour-AJAH4W.jpg\n",
      "[%] File Downloaded !\n",
      "\n",
      "[%] Downloading Image #11 from https://s3.thcdn.com/productimg/0/960/960/13/10602613-1334850924-673817.jpg\n",
      "[%] File Downloaded !\n",
      "\n",
      "[%] Downloading Image #12 from https://www.tasteandtellblog.com/wp-content/uploads/2018/10/Cookies-Cream-Cupcakes-tasteandtellblog.com-1.jpg\n",
      "[%] File Downloaded !\n",
      "\n",
      "\n",
      "\n",
      "[!!]Indexing page: 2\n",
      "\n",
      "[%] Indexed 12 Images on Page 2.\n",
      "\n",
      "===============================================\n",
      "\n",
      "[%] Downloading Image #13 from https://i.pinimg.com/736x/96/75/cd/9675cdd51940e5a91216bf1504ac8006--food-sculpture-claes-oldenburg.jpg\n",
      "[%] File Downloaded !\n",
      "\n",
      "[%] Downloading Image #14 from http://www.awesomeinventions.com/wp-content/uploads/2017/07/Times-People-Lost-The-Food-Lottery-ice-cream-no-cone.jpg\n",
      "[%] File Downloaded !\n",
      "\n",
      "[%] Downloading Image #15 from https://i.pinimg.com/736x/01/81/e9/0181e9e0d6690644a7a490b552755434--pinky-swear-american-pride.jpg\n",
      "[%] File Downloaded !\n",
      "\n",
      "[%] Downloading Image #16 from https://photos.costume-works.com/full/the_ice_cream_cone.jpg\n",
      "[%] File Downloaded !\n",
      "\n",
      "[%] Downloading Image #17 from https://www.rachaelraymag.com/.image/t_share/MTQzMjU4OTI2MjIxNjk4OTI1/microphone-cake-cones.jpg\n",
      "[%] File Downloaded !\n",
      "\n",
      "[%] Downloading Image #18 from https://i.pinimg.com/736x/8b/e5/69/8be569e442e761e63e8fc3c0d7c154d0--waffle-cone-smores-smores-cones.jpg\n",
      "[%] File Downloaded !\n",
      "\n",
      "[%] Downloading Image #19 from http://www.sippycupmom.com/wp-content/uploads/2016/07/Very-Cherry-Vanilla-Ice-Cream-Milkshake-678x1024.jpg\n",
      "[%] File Downloaded !\n",
      "\n",
      "[%] Downloading Image #20 from https://kimspireddiy.com/wp-content/uploads/2020/06/keto-ice-cream-cones-81.jpg\n",
      "[%] File Downloaded !\n",
      "\n",
      "[%] Downloading Image #21 from https://the-glass-co.com/wp-content/uploads/2016/10/ice-cream-presentation.gif\n",
      "[%] File Downloaded !\n",
      "\n",
      "[%] Downloading Image #22 from https://c8.alamy.com/comp/AJAH4W/large-plastic-ice-cream-cone-advertising-ice-cream-parlour-AJAH4W.jpg\n",
      "[%] File Downloaded !\n",
      "\n",
      "[%] Downloading Image #23 from https://s3.thcdn.com/productimg/0/960/960/13/10602613-1334850924-673817.jpg\n",
      "[%] File Downloaded !\n",
      "\n",
      "[%] Downloading Image #24 from https://www.tasteandtellblog.com/wp-content/uploads/2018/10/Cookies-Cream-Cupcakes-tasteandtellblog.com-1.jpg\n",
      "[%] File Downloaded !\n",
      "\n",
      "\n",
      "\n",
      "[!!]Indexing page: 3\n",
      "\n",
      "[%] Indexed 11 Images on Page 3.\n",
      "\n",
      "===============================================\n",
      "\n",
      "[%] Downloading Image #25 from https://i.pinimg.com/736x/01/81/e9/0181e9e0d6690644a7a490b552755434--pinky-swear-american-pride.jpg\n",
      "[%] File Downloaded !\n",
      "\n",
      "[%] Downloading Image #26 from https://the-glass-co.com/wp-content/uploads/2016/10/ice-cream-presentation.gif\n",
      "[%] File Downloaded !\n",
      "\n",
      "[%] Downloading Image #27 from https://www.rachaelraymag.com/.image/t_share/MTQzMjU4OTI2MjIxNjk4OTI1/microphone-cake-cones.jpg\n",
      "[%] File Downloaded !\n",
      "\n",
      "[%] Downloading Image #28 from https://photos.costume-works.com/full/the_ice_cream_cone.jpg\n",
      "[%] File Downloaded !\n",
      "\n",
      "[%] Downloading Image #29 from https://www.tasteandtellblog.com/wp-content/uploads/2018/10/Cookies-Cream-Cupcakes-tasteandtellblog.com-1.jpg\n",
      "[%] File Downloaded !\n",
      "\n",
      "[%] Downloading Image #30 from https://kimspireddiy.com/wp-content/uploads/2020/06/keto-ice-cream-cones-81.jpg\n",
      "[%] File Downloaded !\n",
      "\n",
      "\n",
      "\n",
      "[%] Done. Downloaded 30 images.\n",
      "\n",
      "===============================================\n",
      "\n"
     ]
    }
   ],
   "source": [
    "downloader.download('ice cream cone', limit=30, output_dir='images',\n",
    "                    adult_filter_off=True)"
   ]
  },
  {
   "cell_type": "markdown",
   "metadata": {
    "id": "WQOTLpGaMO52"
   },
   "source": []
  },
  {
   "cell_type": "code",
   "execution_count": 6,
   "metadata": {
    "id": "uI9z9v-5MN1A"
   },
   "outputs": [],
   "source": [
    "### Preprocessing\n",
    "# 1. Resize\n",
    "# 2. Flatten "
   ]
  },
  {
   "cell_type": "code",
   "execution_count": 7,
   "metadata": {
    "id": "w3Axe8QXMSeb"
   },
   "outputs": [],
   "source": [
    "import os\n",
    "import matplotlib.pyplot as plt\n",
    "import numpy as np\n",
    "from skimage.io import imread\n",
    "from skimage.transform import resize\n",
    "\n",
    "target = []\n",
    "images = []\n",
    "flat_data = []\n",
    "\n",
    "DATADIR='/content/images'\n",
    "CATEGORIES = ['pretty sunflower', 'rugby ball leather','ice cream cone']\n",
    "\n",
    "for category in CATEGORIES:\n",
    "  class_num =CATEGORIES.index(category) #label encoding the values\n",
    "  path = os.path.join(DATADIR,category)# Create path to use all the images\n",
    "  for img in os.listdir(path):\n",
    "    img_array = imread(os.path.join(path,img))\n",
    "    #print(img_array.shape)\n",
    "   # plt.imshow(img_array)\n",
    "    #break\n",
    "    img_resized = resize(img_array,(150,150,3)) # Normalizes the value 0 to 1\n",
    "    flat_data.append(img_resized.flatten())\n",
    "    images.append(img_resized)\n",
    "    target.append(class_num)\n",
    "\n",
    "flat_data = np.array(flat_data)\n",
    "target = np.array(target)\n",
    "images = np.array(images)\n"
   ]
  },
  {
   "cell_type": "code",
   "execution_count": 8,
   "metadata": {
    "colab": {
     "base_uri": "https://localhost:8080/"
    },
    "id": "NMLITIc0OYH7",
    "outputId": "4f2147d4-0648-42d6-c606-1b09ebefb44a"
   },
   "outputs": [
    {
     "data": {
      "text/plain": [
       "array([0.        , 0.49411765, 0.62745098, ..., 0.64183007, 0.36928105,\n",
       "       0.03071895])"
      ]
     },
     "execution_count": 8,
     "metadata": {
      "tags": []
     },
     "output_type": "execute_result"
    }
   ],
   "source": [
    "flat_data[0]"
   ]
  },
  {
   "cell_type": "code",
   "execution_count": 9,
   "metadata": {
    "colab": {
     "base_uri": "https://localhost:8080/"
    },
    "id": "87dkPQvqVqlx",
    "outputId": "08b7ce1f-0665-4a1b-a6dd-d6301a6b9090"
   },
   "outputs": [
    {
     "data": {
      "text/plain": [
       "array([0, 0, 0, 0, 0, 0, 0, 0, 0, 0, 0, 0, 0, 0, 0, 0, 0, 0, 0, 0, 0, 0,\n",
       "       0, 0, 0, 0, 0, 0, 0, 0, 1, 1, 1, 1, 1, 1, 1, 1, 1, 1, 1, 1, 1, 1,\n",
       "       1, 1, 1, 1, 1, 1, 1, 1, 1, 1, 1, 1, 1, 1, 1, 1, 2, 2, 2, 2, 2, 2,\n",
       "       2, 2, 2, 2, 2, 2, 2, 2, 2, 2, 2, 2, 2, 2, 2, 2, 2, 2, 2, 2, 2, 2,\n",
       "       2, 2])"
      ]
     },
     "execution_count": 9,
     "metadata": {
      "tags": []
     },
     "output_type": "execute_result"
    }
   ],
   "source": [
    "target"
   ]
  },
  {
   "cell_type": "code",
   "execution_count": 10,
   "metadata": {
    "colab": {
     "base_uri": "https://localhost:8080/",
     "height": 282
    },
    "id": "eiplEzSfV56k",
    "outputId": "85e763cb-a8dd-4843-ff04-681212df3efc"
   },
   "outputs": [
    {
     "data": {
      "text/plain": [
       "<BarContainer object of 3 artists>"
      ]
     },
     "execution_count": 10,
     "metadata": {
      "tags": []
     },
     "output_type": "execute_result"
    },
    {
     "data": {
      "image/png": "[encoded data removed]",
      "text/plain": [
       "<Figure size 432x288 with 1 Axes>"
      ]
     },
     "metadata": {
      "needs_background": "light",
      "tags": []
     },
     "output_type": "display_data"
    }
   ],
   "source": [
    "unique,count=np.unique(target,return_counts = True)\n",
    "plt.bar(CATEGORIES,count)"
   ]
  },
  {
   "cell_type": "code",
   "execution_count": 11,
   "metadata": {
    "id": "J27eT3-VWFKI"
   },
   "outputs": [],
   "source": [
    "# Split data into training and testing\n",
    "from sklearn.model_selection import train_test_split\n",
    "x_train,x_test,y_train,y_test = train_test_split(flat_data,target,\n",
    "                                                 test_size = 0.3,random_state=109)"
   ]
  },
  {
   "cell_type": "code",
   "execution_count": 12,
   "metadata": {
    "colab": {
     "base_uri": "https://localhost:8080/"
    },
    "id": "PMr4Mp1MXMsd",
    "outputId": "52cd534a-04bb-4706-a665-f56ea984e05b"
   },
   "outputs": [
    {
     "data": {
      "text/plain": [
       "GridSearchCV(cv=None, error_score=nan,\n",
       "             estimator=SVC(C=1.0, break_ties=False, cache_size=200,\n",
       "                           class_weight=None, coef0=0.0,\n",
       "                           decision_function_shape='ovr', degree=3,\n",
       "                           gamma='scale', kernel='rbf', max_iter=-1,\n",
       "                           probability=True, random_state=None, shrinking=True,\n",
       "                           tol=0.001, verbose=False),\n",
       "             iid='deprecated', n_jobs=None,\n",
       "             param_grid=[{'C': [1, 10, 100, 1000], 'kernel': ['linear']},\n",
       "                         {'C': [1, 10, 100, 1000], 'gamma': [0.001, 0.0001],\n",
       "                          'kernel': ['rbf']}],\n",
       "             pre_dispatch='2*n_jobs', refit=True, return_train_score=False,\n",
       "             scoring=None, verbose=0)"
      ]
     },
     "execution_count": 12,
     "metadata": {
      "tags": []
     },
     "output_type": "execute_result"
    }
   ],
   "source": [
    "from sklearn.model_selection import GridSearchCV\n",
    "from sklearn import svm\n",
    "param_grid = [\n",
    "              {'C':[1,10,100,1000],'kernel':['linear']},\n",
    "              {'C':[1,10,100,1000],'gamma':[0.001,0.0001],'kernel':['rbf']},\n",
    "]\n",
    "\n",
    "svc = svm.SVC(probability = True)\n",
    "clf = GridSearchCV(svc,param_grid)\n",
    "clf.fit(x_train, y_train) \n"
   ]
  },
  {
   "cell_type": "code",
   "execution_count": 13,
   "metadata": {
    "colab": {
     "base_uri": "https://localhost:8080/"
    },
    "id": "rJwpAEfwY_1I",
    "outputId": "f1ed236e-063f-404b-9479-bb91c2e1e553"
   },
   "outputs": [
    {
     "data": {
      "text/plain": [
       "array([1, 2, 1, 2, 2, 1, 0, 1, 1, 0, 1, 0, 1, 2, 2, 1, 2, 1, 2, 1, 2, 2,\n",
       "       2, 0, 0, 0, 1])"
      ]
     },
     "execution_count": 13,
     "metadata": {
      "tags": []
     },
     "output_type": "execute_result"
    }
   ],
   "source": [
    "y_pred = clf.predict(x_test)\n",
    "y_pred"
   ]
  },
  {
   "cell_type": "code",
   "execution_count": 14,
   "metadata": {
    "colab": {
     "base_uri": "https://localhost:8080/"
    },
    "id": "cQb7R_uNbFSd",
    "outputId": "94480db3-90c2-4f3d-8d4b-b0f37ca383d1"
   },
   "outputs": [
    {
     "data": {
      "text/plain": [
       "array([1, 0, 1, 2, 2, 1, 0, 1, 1, 0, 1, 0, 1, 2, 2, 1, 2, 1, 0, 1, 2, 2,\n",
       "       2, 0, 0, 0, 1])"
      ]
     },
     "execution_count": 14,
     "metadata": {
      "tags": []
     },
     "output_type": "execute_result"
    }
   ],
   "source": [
    "y_test"
   ]
  },
  {
   "cell_type": "code",
   "execution_count": 15,
   "metadata": {
    "id": "eTOrd0cVb7QR"
   },
   "outputs": [],
   "source": [
    "from sklearn.metrics import accuracy_score,confusion_matrix"
   ]
  },
  {
   "cell_type": "code",
   "execution_count": 16,
   "metadata": {
    "colab": {
     "base_uri": "https://localhost:8080/"
    },
    "id": "Y1wIv5LEcC7w",
    "outputId": "a49c4c61-3ebf-4a1c-a20c-2ec47496fe5c"
   },
   "outputs": [
    {
     "data": {
      "text/plain": [
       "0.9259259259259259"
      ]
     },
     "execution_count": 16,
     "metadata": {
      "tags": []
     },
     "output_type": "execute_result"
    }
   ],
   "source": [
    "accuracy_score(y_pred,y_test)"
   ]
  },
  {
   "cell_type": "code",
   "execution_count": 17,
   "metadata": {
    "colab": {
     "base_uri": "https://localhost:8080/"
    },
    "id": "dC0ctB6dcG-V",
    "outputId": "f744d6c1-18a8-4bee-fc33-74228ade4d66"
   },
   "outputs": [
    {
     "data": {
      "text/plain": [
       "array([[ 6,  0,  0],\n",
       "       [ 0, 11,  0],\n",
       "       [ 2,  0,  8]])"
      ]
     },
     "execution_count": 17,
     "metadata": {
      "tags": []
     },
     "output_type": "execute_result"
    }
   ],
   "source": [
    "confusion_matrix(y_pred,y_test)"
   ]
  },
  {
   "cell_type": "code",
   "execution_count": 18,
   "metadata": {
    "id": "7kc7ptcMcQgg"
   },
   "outputs": [],
   "source": [
    "# Save the model using pickle library\n",
    "import pickle\n",
    "pickle.dump(clf,open('img_model.p','wb'))"
   ]
  },
  {
   "cell_type": "code",
   "execution_count": 19,
   "metadata": {
    "id": "CKintKvocqYE"
   },
   "outputs": [],
   "source": [
    "model = pickle.load(open('img_model.p','rb'))"
   ]
  },
  {
   "cell_type": "code",
   "execution_count": 20,
   "metadata": {
    "colab": {
     "base_uri": "https://localhost:8080/",
     "height": 339
    },
    "id": "aYfRZIyOc8Ug",
    "outputId": "8a51ba4f-895d-459a-976e-c96c09e6d069"
   },
   "outputs": [
    {
     "name": "stdout",
     "output_type": "stream",
     "text": [
      "Enter your urlhttps://upload.wikimedia.org/wikipedia/commons/thumb/d/da/Strawberry_ice_cream_cone_%285076899310%29.jpg/220px-Strawberry_ice_cream_cone_%285076899310%29.jpg\n",
      "(331, 220, 3)\n",
      "PREDICTED OUTPUT: rugby ball leather\n"
     ]
    },
    {
     "data": {
      "image/png": "[encoded data removed]",
      "text/plain": [
       "<Figure size 432x288 with 1 Axes>"
      ]
     },
     "metadata": {
      "needs_background": "light",
      "tags": []
     },
     "output_type": "display_data"
    }
   ],
   "source": [
    "#testing a brand new image\n",
    "flat_data = []\n",
    "url = input('Enter your url')\n",
    "img = imread(url)\n",
    "img_resized = resize(img,(150,150,3))\n",
    "flat_data.append(img_resized.flatten())\n",
    "flat_data = np.array(flat_data)\n",
    "print(img.shape)\n",
    "plt.imshow(img_resized)\n",
    "y_out = model.predict(flat_data)\n",
    "y_out = CATEGORIES[y_out[0]]\n",
    "print(f'PREDICTED OUTPUT: {y_out}')\n",
    "\n"
   ]
  },
  {
   "cell_type": "code",
   "execution_count": 21,
   "metadata": {
    "colab": {
     "base_uri": "https://localhost:8080/",
     "height": 1000
    },
    "id": "qVTbGe4VeDvR",
    "outputId": "4ee5f07f-d63c-447e-d140-bda5b29433ea"
   },
   "outputs": [
    {
     "name": "stdout",
     "output_type": "stream",
     "text": [
      "Collecting streamlit\n",
      "\u001b[?25l  Downloading https://files.pythonhosted.org/packages/76/a6/2507aedaa1c80d39eccd601129d273f4091720f4b1031997bb52630ba504/streamlit-0.79.0-py2.py3-none-any.whl (7.0MB)\n",
      "\u001b[K     |████████████████████████████████| 7.0MB 9.8MB/s \n",
      "\u001b[?25hRequirement already satisfied: pillow>=6.2.0 in /usr/local/lib/python3.7/dist-packages (from streamlit) (7.0.0)\n",
      "Collecting pydeck>=0.1.dev5\n",
      "\u001b[?25l  Downloading https://files.pythonhosted.org/packages/1c/3f/8f04ae0c22d82ec7bec7fcc03270a142f637e362bbd285f7daeeda24fbef/pydeck-0.6.1-py2.py3-none-any.whl (4.6MB)\n",
      "\u001b[K     |████████████████████████████████| 4.6MB 41.0MB/s \n",
      "\u001b[?25hRequirement already satisfied: click>=7.0 in /usr/local/lib/python3.7/dist-packages (from streamlit) (7.1.2)\n",
      "Requirement already satisfied: tornado>=5.0 in /usr/local/lib/python3.7/dist-packages (from streamlit) (5.1.1)\n",
      "Collecting validators\n",
      "  Downloading https://files.pythonhosted.org/packages/db/2f/7fed3ee94ad665ad2c1de87f858f10a7785251ff75b4fd47987888d07ef1/validators-0.18.2-py3-none-any.whl\n",
      "Requirement already satisfied: pyarrow; python_version < \"3.9\" in /usr/local/lib/python3.7/dist-packages (from streamlit) (3.0.0)\n",
      "Collecting base58\n",
      "  Downloading https://files.pythonhosted.org/packages/b8/a1/d9f565e9910c09fd325dc638765e8843a19fa696275c16cc08cf3b0a3c25/base58-2.1.0-py3-none-any.whl\n",
      "Requirement already satisfied: altair>=3.2.0 in /usr/local/lib/python3.7/dist-packages (from streamlit) (4.1.0)\n",
      "Collecting blinker\n",
      "\u001b[?25l  Downloading https://files.pythonhosted.org/packages/1b/51/e2a9f3b757eb802f61dc1f2b09c8c99f6eb01cf06416c0671253536517b6/blinker-1.4.tar.gz (111kB)\n",
      "\u001b[K     |████████████████████████████████| 112kB 59.9MB/s \n",
      "\u001b[?25hRequirement already satisfied: packaging in /usr/local/lib/python3.7/dist-packages (from streamlit) (20.9)\n",
      "Requirement already satisfied: python-dateutil in /usr/local/lib/python3.7/dist-packages (from streamlit) (2.8.1)\n",
      "Requirement already satisfied: tzlocal in /usr/local/lib/python3.7/dist-packages (from streamlit) (1.5.1)\n",
      "Requirement already satisfied: protobuf!=3.11,>=3.6.0 in /usr/local/lib/python3.7/dist-packages (from streamlit) (3.12.4)\n",
      "Requirement already satisfied: numpy in /usr/local/lib/python3.7/dist-packages (from streamlit) (1.19.5)\n",
      "Collecting gitpython\n",
      "\u001b[?25l  Downloading https://files.pythonhosted.org/packages/a6/99/98019716955ba243657daedd1de8f3a88ca1f5b75057c38e959db22fb87b/GitPython-3.1.14-py3-none-any.whl (159kB)\n",
      "\u001b[K     |████████████████████████████████| 163kB 41.2MB/s \n",
      "\u001b[?25hRequirement already satisfied: astor in /usr/local/lib/python3.7/dist-packages (from streamlit) (0.8.1)\n",
      "Requirement already satisfied: requests in /usr/local/lib/python3.7/dist-packages (from streamlit) (2.23.0)\n",
      "Requirement already satisfied: toml in /usr/local/lib/python3.7/dist-packages (from streamlit) (0.10.2)\n",
      "Requirement already satisfied: pandas>=0.21.0 in /usr/local/lib/python3.7/dist-packages (from streamlit) (1.1.5)\n",
      "Requirement already satisfied: cachetools>=4.0 in /usr/local/lib/python3.7/dist-packages (from streamlit) (4.2.1)\n",
      "Collecting watchdog; platform_system != \"Darwin\"\n",
      "\u001b[?25l  Downloading https://files.pythonhosted.org/packages/c6/ba/a36ca5b4e75649a002f06531862467b3eb5c768caa23d6d88b921fe238d8/watchdog-2.0.2-py3-none-manylinux2014_x86_64.whl (74kB)\n",
      "\u001b[K     |████████████████████████████████| 81kB 5.3MB/s \n",
      "\u001b[?25hRequirement already satisfied: ipywidgets>=7.0.0 in /usr/local/lib/python3.7/dist-packages (from pydeck>=0.1.dev5->streamlit) (7.6.3)\n",
      "Collecting ipykernel>=5.1.2; python_version >= \"3.4\"\n",
      "\u001b[?25l  Downloading https://files.pythonhosted.org/packages/56/95/3a670c8b2c2370bd8631c313f42e60983b3113ffec4035940592252bd6d5/ipykernel-5.5.0-py3-none-any.whl (120kB)\n",
      "\u001b[K     |████████████████████████████████| 122kB 41.4MB/s \n",
      "\u001b[?25hRequirement already satisfied: traitlets>=4.3.2 in /usr/local/lib/python3.7/dist-packages (from pydeck>=0.1.dev5->streamlit) (5.0.5)\n",
      "Requirement already satisfied: jinja2>=2.10.1 in /usr/local/lib/python3.7/dist-packages (from pydeck>=0.1.dev5->streamlit) (2.11.3)\n",
      "Requirement already satisfied: six>=1.4.0 in /usr/local/lib/python3.7/dist-packages (from validators->streamlit) (1.15.0)\n",
      "Requirement already satisfied: decorator>=3.4.0 in /usr/local/lib/python3.7/dist-packages (from validators->streamlit) (4.4.2)\n",
      "Requirement already satisfied: jsonschema in /usr/local/lib/python3.7/dist-packages (from altair>=3.2.0->streamlit) (2.6.0)\n",
      "Requirement already satisfied: entrypoints in /usr/local/lib/python3.7/dist-packages (from altair>=3.2.0->streamlit) (0.3)\n",
      "Requirement already satisfied: toolz in /usr/local/lib/python3.7/dist-packages (from altair>=3.2.0->streamlit) (0.11.1)\n",
      "Requirement already satisfied: pyparsing>=2.0.2 in /usr/local/lib/python3.7/dist-packages (from packaging->streamlit) (2.4.7)\n",
      "Requirement already satisfied: pytz in /usr/local/lib/python3.7/dist-packages (from tzlocal->streamlit) (2018.9)\n",
      "Requirement already satisfied: setuptools in /usr/local/lib/python3.7/dist-packages (from protobuf!=3.11,>=3.6.0->streamlit) (54.1.2)\n",
      "Collecting gitdb<5,>=4.0.1\n",
      "\u001b[?25l  Downloading https://files.pythonhosted.org/packages/ea/e8/f414d1a4f0bbc668ed441f74f44c116d9816833a48bf81d22b697090dba8/gitdb-4.0.7-py3-none-any.whl (63kB)\n",
      "\u001b[K     |████████████████████████████████| 71kB 6.0MB/s \n",
      "\u001b[?25hRequirement already satisfied: urllib3!=1.25.0,!=1.25.1,<1.26,>=1.21.1 in /usr/local/lib/python3.7/dist-packages (from requests->streamlit) (1.24.3)\n",
      "Requirement already satisfied: certifi>=2017.4.17 in /usr/local/lib/python3.7/dist-packages (from requests->streamlit) (2020.12.5)\n",
      "Requirement already satisfied: chardet<4,>=3.0.2 in /usr/local/lib/python3.7/dist-packages (from requests->streamlit) (3.0.4)\n",
      "Requirement already satisfied: idna<3,>=2.5 in /usr/local/lib/python3.7/dist-packages (from requests->streamlit) (2.10)\n",
      "Requirement already satisfied: ipython>=4.0.0; python_version >= \"3.3\" in /usr/local/lib/python3.7/dist-packages (from ipywidgets>=7.0.0->pydeck>=0.1.dev5->streamlit) (5.5.0)\n",
      "Requirement already satisfied: jupyterlab-widgets>=1.0.0; python_version >= \"3.6\" in /usr/local/lib/python3.7/dist-packages (from ipywidgets>=7.0.0->pydeck>=0.1.dev5->streamlit) (1.0.0)\n",
      "Requirement already satisfied: nbformat>=4.2.0 in /usr/local/lib/python3.7/dist-packages (from ipywidgets>=7.0.0->pydeck>=0.1.dev5->streamlit) (5.1.2)\n",
      "Requirement already satisfied: widgetsnbextension~=3.5.0 in /usr/local/lib/python3.7/dist-packages (from ipywidgets>=7.0.0->pydeck>=0.1.dev5->streamlit) (3.5.1)\n",
      "Requirement already satisfied: jupyter-client in /usr/local/lib/python3.7/dist-packages (from ipykernel>=5.1.2; python_version >= \"3.4\"->pydeck>=0.1.dev5->streamlit) (5.3.5)\n",
      "Requirement already satisfied: ipython-genutils in /usr/local/lib/python3.7/dist-packages (from traitlets>=4.3.2->pydeck>=0.1.dev5->streamlit) (0.2.0)\n",
      "Requirement already satisfied: MarkupSafe>=0.23 in /usr/local/lib/python3.7/dist-packages (from jinja2>=2.10.1->pydeck>=0.1.dev5->streamlit) (1.1.1)\n",
      "Collecting smmap<5,>=3.0.1\n",
      "  Downloading https://files.pythonhosted.org/packages/68/ee/d540eb5e5996eb81c26ceffac6ee49041d473bc5125f2aa995cf51ec1cf1/smmap-4.0.0-py2.py3-none-any.whl\n",
      "Requirement already satisfied: pickleshare in /usr/local/lib/python3.7/dist-packages (from ipython>=4.0.0; python_version >= \"3.3\"->ipywidgets>=7.0.0->pydeck>=0.1.dev5->streamlit) (0.7.5)\n",
      "Requirement already satisfied: prompt-toolkit<2.0.0,>=1.0.4 in /usr/local/lib/python3.7/dist-packages (from ipython>=4.0.0; python_version >= \"3.3\"->ipywidgets>=7.0.0->pydeck>=0.1.dev5->streamlit) (1.0.18)\n",
      "Requirement already satisfied: simplegeneric>0.8 in /usr/local/lib/python3.7/dist-packages (from ipython>=4.0.0; python_version >= \"3.3\"->ipywidgets>=7.0.0->pydeck>=0.1.dev5->streamlit) (0.8.1)\n",
      "Requirement already satisfied: pexpect; sys_platform != \"win32\" in /usr/local/lib/python3.7/dist-packages (from ipython>=4.0.0; python_version >= \"3.3\"->ipywidgets>=7.0.0->pydeck>=0.1.dev5->streamlit) (4.8.0)\n",
      "Requirement already satisfied: pygments in /usr/local/lib/python3.7/dist-packages (from ipython>=4.0.0; python_version >= \"3.3\"->ipywidgets>=7.0.0->pydeck>=0.1.dev5->streamlit) (2.6.1)\n",
      "Requirement already satisfied: jupyter-core in /usr/local/lib/python3.7/dist-packages (from nbformat>=4.2.0->ipywidgets>=7.0.0->pydeck>=0.1.dev5->streamlit) (4.7.1)\n",
      "Requirement already satisfied: notebook>=4.4.1 in /usr/local/lib/python3.7/dist-packages (from widgetsnbextension~=3.5.0->ipywidgets>=7.0.0->pydeck>=0.1.dev5->streamlit) (5.3.1)\n",
      "Requirement already satisfied: pyzmq>=13 in /usr/local/lib/python3.7/dist-packages (from jupyter-client->ipykernel>=5.1.2; python_version >= \"3.4\"->pydeck>=0.1.dev5->streamlit) (22.0.3)\n",
      "Requirement already satisfied: wcwidth in /usr/local/lib/python3.7/dist-packages (from prompt-toolkit<2.0.0,>=1.0.4->ipython>=4.0.0; python_version >= \"3.3\"->ipywidgets>=7.0.0->pydeck>=0.1.dev5->streamlit) (0.2.5)\n",
      "Requirement already satisfied: ptyprocess>=0.5 in /usr/local/lib/python3.7/dist-packages (from pexpect; sys_platform != \"win32\"->ipython>=4.0.0; python_version >= \"3.3\"->ipywidgets>=7.0.0->pydeck>=0.1.dev5->streamlit) (0.7.0)\n",
      "Requirement already satisfied: terminado>=0.8.1 in /usr/local/lib/python3.7/dist-packages (from notebook>=4.4.1->widgetsnbextension~=3.5.0->ipywidgets>=7.0.0->pydeck>=0.1.dev5->streamlit) (0.9.2)\n",
      "Requirement already satisfied: nbconvert in /usr/local/lib/python3.7/dist-packages (from notebook>=4.4.1->widgetsnbextension~=3.5.0->ipywidgets>=7.0.0->pydeck>=0.1.dev5->streamlit) (5.6.1)\n",
      "Requirement already satisfied: Send2Trash in /usr/local/lib/python3.7/dist-packages (from notebook>=4.4.1->widgetsnbextension~=3.5.0->ipywidgets>=7.0.0->pydeck>=0.1.dev5->streamlit) (1.5.0)\n",
      "Requirement already satisfied: bleach in /usr/local/lib/python3.7/dist-packages (from nbconvert->notebook>=4.4.1->widgetsnbextension~=3.5.0->ipywidgets>=7.0.0->pydeck>=0.1.dev5->streamlit) (3.3.0)\n",
      "Requirement already satisfied: testpath in /usr/local/lib/python3.7/dist-packages (from nbconvert->notebook>=4.4.1->widgetsnbextension~=3.5.0->ipywidgets>=7.0.0->pydeck>=0.1.dev5->streamlit) (0.4.4)\n",
      "Requirement already satisfied: defusedxml in /usr/local/lib/python3.7/dist-packages (from nbconvert->notebook>=4.4.1->widgetsnbextension~=3.5.0->ipywidgets>=7.0.0->pydeck>=0.1.dev5->streamlit) (0.7.1)\n",
      "Requirement already satisfied: pandocfilters>=1.4.1 in /usr/local/lib/python3.7/dist-packages (from nbconvert->notebook>=4.4.1->widgetsnbextension~=3.5.0->ipywidgets>=7.0.0->pydeck>=0.1.dev5->streamlit) (1.4.3)\n",
      "Requirement already satisfied: mistune<2,>=0.8.1 in /usr/local/lib/python3.7/dist-packages (from nbconvert->notebook>=4.4.1->widgetsnbextension~=3.5.0->ipywidgets>=7.0.0->pydeck>=0.1.dev5->streamlit) (0.8.4)\n",
      "Requirement already satisfied: webencodings in /usr/local/lib/python3.7/dist-packages (from bleach->nbconvert->notebook>=4.4.1->widgetsnbextension~=3.5.0->ipywidgets>=7.0.0->pydeck>=0.1.dev5->streamlit) (0.5.1)\n",
      "Building wheels for collected packages: blinker\n",
      "  Building wheel for blinker (setup.py) ... \u001b[?25l\u001b[?25hdone\n",
      "  Created wheel for blinker: filename=blinker-1.4-cp37-none-any.whl size=13448 sha256=839e9e74ed9197da1ecbf14fa07b7e9b9bf82da4bc57922b77a70f64b148b285\n",
      "  Stored in directory: /root/.cache/pip/wheels/92/a0/00/8690a57883956a301d91cf4ec999cc0b258b01e3f548f86e89\n",
      "Successfully built blinker\n",
      "\u001b[31mERROR: google-colab 1.0.0 has requirement ipykernel~=4.10, but you'll have ipykernel 5.5.0 which is incompatible.\u001b[0m\n",
      "Installing collected packages: ipykernel, pydeck, validators, base58, blinker, smmap, gitdb, gitpython, watchdog, streamlit\n",
      "  Found existing installation: ipykernel 4.10.1\n",
      "    Uninstalling ipykernel-4.10.1:\n",
      "      Successfully uninstalled ipykernel-4.10.1\n",
      "Successfully installed base58-2.1.0 blinker-1.4 gitdb-4.0.7 gitpython-3.1.14 ipykernel-5.5.0 pydeck-0.6.1 smmap-4.0.0 streamlit-0.79.0 validators-0.18.2 watchdog-2.0.2\n"
     ]
    },
    {
     "data": {
      "application/vnd.colab-display-data+json": {
       "pip_warning": {
        "packages": [
         "ipykernel"
        ]
       }
      }
     },
     "metadata": {
      "tags": []
     },
     "output_type": "display_data"
    },
    {
     "name": "stdout",
     "output_type": "stream",
     "text": [
      "Collecting pyngrok\n",
      "\u001b[?25l  Downloading https://files.pythonhosted.org/packages/6b/4e/a2fe095bbe17cf26424c4abcd22a0490e22d01cc628f25af5e220ddbf6f0/pyngrok-5.0.5.tar.gz (745kB)\n",
      "\r",
      "\u001b[K     |▍                               | 10kB 8.9MB/s eta 0:00:01\r",
      "\u001b[K     |▉                               | 20kB 7.1MB/s eta 0:00:01\r",
      "\u001b[K     |█▎                              | 30kB 7.5MB/s eta 0:00:01\r",
      "\u001b[K     |█▊                              | 40kB 7.8MB/s eta 0:00:01\r",
      "\u001b[K     |██▏                             | 51kB 9.3MB/s eta 0:00:01\r",
      "\u001b[K     |██▋                             | 61kB 10.7MB/s eta 0:00:01\r",
      "\u001b[K     |███                             | 71kB 10.5MB/s eta 0:00:01\r",
      "\u001b[K     |███▌                            | 81kB 10.6MB/s eta 0:00:01\r",
      "\u001b[K     |████                            | 92kB 9.6MB/s eta 0:00:01\r",
      "\u001b[K     |████▍                           | 102kB 10.0MB/s eta 0:00:01\r",
      "\u001b[K     |████▉                           | 112kB 10.0MB/s eta 0:00:01\r",
      "\u001b[K     |█████▎                          | 122kB 10.0MB/s eta 0:00:01\r",
      "\u001b[K     |█████▊                          | 133kB 10.0MB/s eta 0:00:01\r",
      "\u001b[K     |██████▏                         | 143kB 10.0MB/s eta 0:00:01\r",
      "\u001b[K     |██████▋                         | 153kB 10.0MB/s eta 0:00:01\r",
      "\u001b[K     |███████                         | 163kB 10.0MB/s eta 0:00:01\r",
      "\u001b[K     |███████▌                        | 174kB 10.0MB/s eta 0:00:01\r",
      "\u001b[K     |████████                        | 184kB 10.0MB/s eta 0:00:01\r",
      "\u001b[K     |████████▍                       | 194kB 10.0MB/s eta 0:00:01\r",
      "\u001b[K     |████████▉                       | 204kB 10.0MB/s eta 0:00:01\r",
      "\u001b[K     |█████████▎                      | 215kB 10.0MB/s eta 0:00:01\r",
      "\u001b[K     |█████████▊                      | 225kB 10.0MB/s eta 0:00:01\r",
      "\u001b[K     |██████████▏                     | 235kB 10.0MB/s eta 0:00:01\r",
      "\u001b[K     |██████████▌                     | 245kB 10.0MB/s eta 0:00:01\r",
      "\u001b[K     |███████████                     | 256kB 10.0MB/s eta 0:00:01\r",
      "\u001b[K     |███████████▍                    | 266kB 10.0MB/s eta 0:00:01\r",
      "\u001b[K     |███████████▉                    | 276kB 10.0MB/s eta 0:00:01\r",
      "\u001b[K     |████████████▎                   | 286kB 10.0MB/s eta 0:00:01\r",
      "\u001b[K     |████████████▊                   | 296kB 10.0MB/s eta 0:00:01\r",
      "\u001b[K     |█████████████▏                  | 307kB 10.0MB/s eta 0:00:01\r",
      "\u001b[K     |█████████████▋                  | 317kB 10.0MB/s eta 0:00:01\r",
      "\u001b[K     |██████████████                  | 327kB 10.0MB/s eta 0:00:01\r",
      "\u001b[K     |██████████████▌                 | 337kB 10.0MB/s eta 0:00:01\r",
      "\u001b[K     |███████████████                 | 348kB 10.0MB/s eta 0:00:01\r",
      "\u001b[K     |███████████████▍                | 358kB 10.0MB/s eta 0:00:01\r",
      "\u001b[K     |███████████████▉                | 368kB 10.0MB/s eta 0:00:01\r",
      "\u001b[K     |████████████████▎               | 378kB 10.0MB/s eta 0:00:01\r",
      "\u001b[K     |████████████████▊               | 389kB 10.0MB/s eta 0:00:01\r",
      "\u001b[K     |█████████████████▏              | 399kB 10.0MB/s eta 0:00:01\r",
      "\u001b[K     |█████████████████▋              | 409kB 10.0MB/s eta 0:00:01\r",
      "\u001b[K     |██████████████████              | 419kB 10.0MB/s eta 0:00:01\r",
      "\u001b[K     |██████████████████▌             | 430kB 10.0MB/s eta 0:00:01\r",
      "\u001b[K     |███████████████████             | 440kB 10.0MB/s eta 0:00:01\r",
      "\u001b[K     |███████████████████▍            | 450kB 10.0MB/s eta 0:00:01\r",
      "\u001b[K     |███████████████████▉            | 460kB 10.0MB/s eta 0:00:01\r",
      "\u001b[K     |████████████████████▎           | 471kB 10.0MB/s eta 0:00:01\r",
      "\u001b[K     |████████████████████▊           | 481kB 10.0MB/s eta 0:00:01\r",
      "\u001b[K     |█████████████████████           | 491kB 10.0MB/s eta 0:00:01\r",
      "\u001b[K     |█████████████████████▌          | 501kB 10.0MB/s eta 0:00:01\r",
      "\u001b[K     |██████████████████████          | 512kB 10.0MB/s eta 0:00:01\r",
      "\u001b[K     |██████████████████████▍         | 522kB 10.0MB/s eta 0:00:01\r",
      "\u001b[K     |██████████████████████▉         | 532kB 10.0MB/s eta 0:00:01\r",
      "\u001b[K     |███████████████████████▎        | 542kB 10.0MB/s eta 0:00:01\r",
      "\u001b[K     |███████████████████████▊        | 552kB 10.0MB/s eta 0:00:01\r",
      "\u001b[K     |████████████████████████▏       | 563kB 10.0MB/s eta 0:00:01\r",
      "\u001b[K     |████████████████████████▋       | 573kB 10.0MB/s eta 0:00:01\r",
      "\u001b[K     |█████████████████████████       | 583kB 10.0MB/s eta 0:00:01\r",
      "\u001b[K     |█████████████████████████▌      | 593kB 10.0MB/s eta 0:00:01\r",
      "\u001b[K     |██████████████████████████      | 604kB 10.0MB/s eta 0:00:01\r",
      "\u001b[K     |██████████████████████████▍     | 614kB 10.0MB/s eta 0:00:01\r",
      "\u001b[K     |██████████████████████████▉     | 624kB 10.0MB/s eta 0:00:01\r",
      "\u001b[K     |███████████████████████████▎    | 634kB 10.0MB/s eta 0:00:01\r",
      "\u001b[K     |███████████████████████████▊    | 645kB 10.0MB/s eta 0:00:01\r",
      "\u001b[K     |████████████████████████████▏   | 655kB 10.0MB/s eta 0:00:01\r",
      "\u001b[K     |████████████████████████████▋   | 665kB 10.0MB/s eta 0:00:01\r",
      "\u001b[K     |█████████████████████████████   | 675kB 10.0MB/s eta 0:00:01\r",
      "\u001b[K     |█████████████████████████████▌  | 686kB 10.0MB/s eta 0:00:01\r",
      "\u001b[K     |██████████████████████████████  | 696kB 10.0MB/s eta 0:00:01\r",
      "\u001b[K     |██████████████████████████████▍ | 706kB 10.0MB/s eta 0:00:01\r",
      "\u001b[K     |██████████████████████████████▉ | 716kB 10.0MB/s eta 0:00:01\r",
      "\u001b[K     |███████████████████████████████▏| 727kB 10.0MB/s eta 0:00:01\r",
      "\u001b[K     |███████████████████████████████▋| 737kB 10.0MB/s eta 0:00:01\r",
      "\u001b[K     |████████████████████████████████| 747kB 10.0MB/s \n",
      "\u001b[?25hRequirement already satisfied: PyYAML in /usr/local/lib/python3.7/dist-packages (from pyngrok) (3.13)\n",
      "Building wheels for collected packages: pyngrok\n",
      "  Building wheel for pyngrok (setup.py) ... \u001b[?25l\u001b[?25hdone\n",
      "  Created wheel for pyngrok: filename=pyngrok-5.0.5-cp37-none-any.whl size=19246 sha256=210dbe78266ed0d1e43e0cf9688c932b5c42b6c1f304e6606c166badacc3f63b\n",
      "  Stored in directory: /root/.cache/pip/wheels/0c/13/64/5ebbcc22eaf53fdf5766b397c1fb17c83f5775fdccf0ea1b88\n",
      "Successfully built pyngrok\n",
      "Installing collected packages: pyngrok\n",
      "Successfully installed pyngrok-5.0.5\n"
     ]
    }
   ],
   "source": [
    "!pip install streamlit\n",
    "\n",
    "!pip install pyngrok\n",
    "from pyngrok import ngrok\n"
   ]
  },
  {
   "cell_type": "code",
   "execution_count": 23,
   "metadata": {
    "id": "hy78wSWdf62w"
   },
   "outputs": [],
   "source": [
    "#  Deployment:\n",
    "#1. Webpage - HTML/CSS/JS - FLASK/DJANGO\n",
    "#2. Webapp # streamlit / DASH\n",
    "#3.Mobile app -  KOTLIN/JAVA\n"
   ]
  },
  {
   "cell_type": "code",
   "execution_count": 22,
   "metadata": {
    "colab": {
     "base_uri": "https://localhost:8080/"
    },
    "id": "Vd_f-nuJhAxN",
    "outputId": "513ea46a-21e8-4357-d974-7ae52becfe8b"
   },
   "outputs": [
    {
     "name": "stdout",
     "output_type": "stream",
     "text": [
      "Writing app.py\n"
     ]
    }
   ],
   "source": [
    "%%writefile app.py\n",
    "import streamlit as st\n",
    "st.title('Image Classifier')"
   ]
  },
  {
   "cell_type": "code",
   "execution_count": 23,
   "metadata": {
    "colab": {
     "base_uri": "https://localhost:8080/"
    },
    "id": "n7PaNEe-hdvI",
    "outputId": "f3a22a14-6ac9-429f-eed4-bb46a9a0fb6d"
   },
   "outputs": [
    {
     "name": "stdout",
     "output_type": "stream",
     "text": [
      "nohup: appending output to 'nohup.out'\n"
     ]
    },
    {
     "data": {
      "text/plain": [
       "<NgrokTunnel: \"http://6f053916c010.ngrok.io\" -> \"http://localhost:80\">"
      ]
     },
     "execution_count": 23,
     "metadata": {
      "tags": []
     },
     "output_type": "execute_result"
    }
   ],
   "source": [
    "!nohup streamlit run app.py &\n",
    "\n",
    "url = ngrok.connect(port='8501')\n",
    "url"
   ]
  }
 ],
 "metadata": {
  "colab": {
   "name": "image Classification.ipynb",
   "provenance": []
  },
  "kernelspec": {
   "display_name": "Python 3",
   "language": "python",
   "name": "python3"
  },
  "language_info": {
   "codemirror_mode": {
    "name": "ipython",
    "version": 3
   },
   "file_extension": ".py",
   "mimetype": "text/x-python",
   "name": "python",
   "nbconvert_exporter": "python",
   "pygments_lexer": "ipython3",
   "version": "3.8.5"
  },
  "toc": {
   "base_numbering": 1,
   "nav_menu": {},
   "number_sections": true,
   "sideBar": true,
   "skip_h1_title": false,
   "title_cell": "Table of Contents",
   "title_sidebar": "Contents",
   "toc_cell": true,
   "toc_position": {},
   "toc_section_display": true,
   "toc_window_display": false
  }
 },
 "nbformat": 4,
 "nbformat_minor": 1
}
